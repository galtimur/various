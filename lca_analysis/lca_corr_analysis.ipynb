{
 "cells": [
  {
   "cell_type": "code",
   "id": "initial_id",
   "metadata": {
    "collapsed": true,
    "ExecuteTime": {
     "end_time": "2025-03-26T10:51:22.554429Z",
     "start_time": "2025-03-26T10:51:22.550427Z"
    }
   },
   "source": [
    "from pathlib import Path\n",
    "import json"
   ],
   "outputs": [],
   "execution_count": 3
  },
  {
   "metadata": {
    "ExecuteTime": {
     "end_time": "2025-03-26T10:51:23.467729Z",
     "start_time": "2025-03-26T10:51:23.461178Z"
    }
   },
   "cell_type": "code",
   "source": [
    "folder = Path(\"\")\n",
    "dataset_file = folder / \"tasks_results.json\"\n",
    "\n",
    "with open(dataset_file, 'r') as file:\n",
    "    task_results = json.load(file)"
   ],
   "id": "fce56d4bab0fa511",
   "outputs": [],
   "execution_count": 4
  },
  {
   "metadata": {},
   "cell_type": "code",
   "outputs": [],
   "execution_count": null,
   "source": "",
   "id": "cb73585c5b5bb010"
  }
 ],
 "metadata": {
  "kernelspec": {
   "display_name": "Python 3",
   "language": "python",
   "name": "python3"
  },
  "language_info": {
   "codemirror_mode": {
    "name": "ipython",
    "version": 2
   },
   "file_extension": ".py",
   "mimetype": "text/x-python",
   "name": "python",
   "nbconvert_exporter": "python",
   "pygments_lexer": "ipython2",
   "version": "2.7.6"
  }
 },
 "nbformat": 4,
 "nbformat_minor": 5
}
