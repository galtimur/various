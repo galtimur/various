{
 "cells": [
  {
   "cell_type": "code",
   "id": "initial_id",
   "metadata": {
    "collapsed": true,
    "ExecuteTime": {
     "end_time": "2025-03-26T11:26:28.229355Z",
     "start_time": "2025-03-26T11:26:28.224959Z"
    }
   },
   "source": [
    "from pathlib import Path\n",
    "import json"
   ],
   "outputs": [],
   "execution_count": 5
  },
  {
   "metadata": {
    "ExecuteTime": {
     "end_time": "2025-03-26T11:26:28.596485Z",
     "start_time": "2025-03-26T11:26:28.590900Z"
    }
   },
   "cell_type": "code",
   "source": [
    "folder = Path(\"\")\n",
    "dataset_file = folder / \"tasks_results.json\"\n",
    "\n",
    "with open(dataset_file, 'r') as file:\n",
    "    task_results = json.load(file)"
   ],
   "id": "fce56d4bab0fa511",
   "outputs": [],
   "execution_count": 6
  },
  {
   "metadata": {
    "ExecuteTime": {
     "end_time": "2025-03-26T12:08:12.319547Z",
     "start_time": "2025-03-26T12:08:12.313395Z"
    }
   },
   "cell_type": "code",
   "source": [
    "def get_models_set(task_dict):\n",
    "    # get set of models for each task.\n",
    "    model_dict = {}\n",
    "    for task, model_scores in task_dict.items():\n",
    "        model_set = {model.lower() for model in model_scores.keys()}\n",
    "        model_dict[task] = model_set\n",
    "\n",
    "    return\n",
    "\n",
    "def model_task_count(tasks_dict):\n",
    "    # Calculate number of tasks, in which models are used\n",
    "    all_tasks = set(tasks_dict.keys())\n",
    "    model_analysis = {}\n",
    "\n",
    "    for task, model_scores in tasks_dict.items():\n",
    "        for model in model_scores.keys():\n",
    "            model_lower = model.lower()\n",
    "            if model_lower not in model_analysis:\n",
    "                model_analysis[model_lower] = {\n",
    "                    \"num_tasks\": 0,\n",
    "                    \"tasks\": set(),\n",
    "                    \"missed_tasks\": set()\n",
    "                }\n",
    "            model_analysis[model_lower][\"num_tasks\"] += 1\n",
    "            model_analysis[model_lower][\"tasks\"].add(task)\n",
    "\n",
    "    for model, details in model_analysis.items():\n",
    "        details[\"missed_tasks\"] = list(all_tasks - details[\"tasks\"])\n",
    "        details[\"tasks\"] = list(details[\"tasks\"])\n",
    "\n",
    "    sorted_model_analysis = dict(sorted(model_analysis.items(), key=lambda item: item[1][\"num_tasks\"], reverse=True))\n",
    "\n",
    "    return sorted_model_analysis"
   ],
   "id": "cb73585c5b5bb010",
   "outputs": [],
   "execution_count": 34
  },
  {
   "metadata": {
    "ExecuteTime": {
     "end_time": "2025-03-26T12:08:12.940642Z",
     "start_time": "2025-03-26T12:08:12.936646Z"
    }
   },
   "cell_type": "code",
   "source": [
    "model_dict = get_models_set(task_results)\n",
    "model_count = model_task_count(task_results)"
   ],
   "id": "62c96d1a39105bea",
   "outputs": [],
   "execution_count": 35
  },
  {
   "metadata": {
    "ExecuteTime": {
     "end_time": "2025-03-26T12:08:13.680052Z",
     "start_time": "2025-03-26T12:08:13.675026Z"
    }
   },
   "cell_type": "code",
   "source": [
    "with open(\"model_count.json\", \"w\") as file:\n",
    "    json.dump(model_count, file, indent=4)"
   ],
   "id": "6bdcd99acf300cd3",
   "outputs": [],
   "execution_count": 36
  },
  {
   "metadata": {},
   "cell_type": "code",
   "outputs": [],
   "execution_count": null,
   "source": "",
   "id": "8e81cbdeefa7f2f5"
  }
 ],
 "metadata": {
  "kernelspec": {
   "display_name": "Python 3",
   "language": "python",
   "name": "python3"
  },
  "language_info": {
   "codemirror_mode": {
    "name": "ipython",
    "version": 2
   },
   "file_extension": ".py",
   "mimetype": "text/x-python",
   "name": "python",
   "nbconvert_exporter": "python",
   "pygments_lexer": "ipython2",
   "version": "2.7.6"
  }
 },
 "nbformat": 4,
 "nbformat_minor": 5
}
