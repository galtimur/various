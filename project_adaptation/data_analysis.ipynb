{
 "cells": [
  {
   "cell_type": "code",
   "id": "initial_id",
   "metadata": {
    "collapsed": true,
    "ExecuteTime": {
     "end_time": "2025-05-08T08:06:40.218599Z",
     "start_time": "2025-05-08T08:06:40.212295Z"
    }
   },
   "source": "from datasets import load_from_disk",
   "outputs": [],
   "execution_count": 12
  },
  {
   "metadata": {
    "ExecuteTime": {
     "end_time": "2025-05-08T08:06:40.564417Z",
     "start_time": "2025-05-08T08:06:40.558379Z"
    }
   },
   "cell_type": "code",
   "source": "data_path = \"C:/Timur/Varios for job/project-adaptation/data/django_docs_2400\"",
   "id": "70890dd3c3daba9c",
   "outputs": [],
   "execution_count": 13
  },
  {
   "metadata": {
    "ExecuteTime": {
     "end_time": "2025-05-08T08:16:56.213578Z",
     "start_time": "2025-05-08T08:16:56.154402Z"
    }
   },
   "cell_type": "code",
   "source": "data = load_from_disk(data_path)",
   "id": "fca8187233494dfb",
   "outputs": [],
   "execution_count": 23
  },
  {
   "metadata": {
    "ExecuteTime": {
     "end_time": "2025-05-08T08:16:56.598115Z",
     "start_time": "2025-05-08T08:16:56.585466Z"
    }
   },
   "cell_type": "code",
   "source": "items = data[0:100]",
   "id": "f821d3e34f335dfc",
   "outputs": [],
   "execution_count": 24
  },
  {
   "metadata": {},
   "cell_type": "code",
   "outputs": [],
   "execution_count": null,
   "source": "",
   "id": "1c26032e850076ae"
  },
  {
   "metadata": {
    "ExecuteTime": {
     "end_time": "2025-05-08T08:11:10.587941Z",
     "start_time": "2025-05-08T08:11:10.508508Z"
    }
   },
   "cell_type": "code",
   "source": [
    "n = 0\n",
    "for item in data[:2400]:\n",
    "    if not item[\"raw_doc\"]:\n",
    "        n += 1\n",
    "print(n)\n",
    "print(len(data))"
   ],
   "id": "c87994d7b76756fa",
   "outputs": [
    {
     "ename": "TypeError",
     "evalue": "string indices must be integers, not 'str'",
     "output_type": "error",
     "traceback": [
      "\u001B[1;31m---------------------------------------------------------------------------\u001B[0m",
      "\u001B[1;31mTypeError\u001B[0m                                 Traceback (most recent call last)",
      "Cell \u001B[1;32mIn[20], line 3\u001B[0m\n\u001B[0;32m      1\u001B[0m n \u001B[38;5;241m=\u001B[39m \u001B[38;5;241m0\u001B[39m\n\u001B[0;32m      2\u001B[0m \u001B[38;5;28;01mfor\u001B[39;00m item \u001B[38;5;129;01min\u001B[39;00m data[:\u001B[38;5;241m2400\u001B[39m]:\n\u001B[1;32m----> 3\u001B[0m     \u001B[38;5;28;01mif\u001B[39;00m \u001B[38;5;129;01mnot\u001B[39;00m \u001B[43mitem\u001B[49m\u001B[43m[\u001B[49m\u001B[38;5;124;43m\"\u001B[39;49m\u001B[38;5;124;43mraw_doc\u001B[39;49m\u001B[38;5;124;43m\"\u001B[39;49m\u001B[43m]\u001B[49m:\n\u001B[0;32m      4\u001B[0m         n \u001B[38;5;241m+\u001B[39m\u001B[38;5;241m=\u001B[39m \u001B[38;5;241m1\u001B[39m\n\u001B[0;32m      5\u001B[0m \u001B[38;5;28mprint\u001B[39m(n)\n",
      "\u001B[1;31mTypeError\u001B[0m: string indices must be integers, not 'str'"
     ]
    }
   ],
   "execution_count": 20
  },
  {
   "metadata": {},
   "cell_type": "code",
   "outputs": [],
   "execution_count": null,
   "source": [
    "n = 0\n",
    "for item in data:\n",
    "    if not item[\"raw_doc\"]:\n",
    "        n += 1\n",
    "print(n)\n",
    "print(len(data))"
   ],
   "id": "e0ce84175e7e8292"
  }
 ],
 "metadata": {
  "kernelspec": {
   "display_name": "Python 3",
   "language": "python",
   "name": "python3"
  },
  "language_info": {
   "codemirror_mode": {
    "name": "ipython",
    "version": 2
   },
   "file_extension": ".py",
   "mimetype": "text/x-python",
   "name": "python",
   "nbconvert_exporter": "python",
   "pygments_lexer": "ipython2",
   "version": "2.7.6"
  }
 },
 "nbformat": 4,
 "nbformat_minor": 5
}
