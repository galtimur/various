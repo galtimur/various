{
 "cells": [
  {
   "cell_type": "code",
   "id": "initial_id",
   "metadata": {
    "collapsed": true,
    "ExecuteTime": {
     "end_time": "2025-03-24T22:28:30.034077Z",
     "start_time": "2025-03-24T22:28:30.029156Z"
    }
   },
   "source": [
    "from pathlib import Path\n",
    "import json\n",
    "import re\n",
    "import os\n",
    "from collections import defaultdict"
   ],
   "outputs": [],
   "execution_count": 1
  },
  {
   "metadata": {
    "ExecuteTime": {
     "end_time": "2025-03-24T22:28:30.054348Z",
     "start_time": "2025-03-24T22:28:30.047096Z"
    }
   },
   "cell_type": "code",
   "source": [
    "def extract_from_brackets(content: str, brackets:str=\"{}\") -> str:\n",
    "    left_bracket, right_bracket = brackets[0], brackets[1]\n",
    "    num_open = 0\n",
    "    extracted_content = \"\"\n",
    "    inside_brackets = False\n",
    "\n",
    "    for char in content:\n",
    "        if char == left_bracket:\n",
    "            inside_brackets = True\n",
    "            num_open += 1\n",
    "        elif char == right_bracket:\n",
    "            num_open -= 1\n",
    "        if num_open > 0:\n",
    "            extracted_content += char\n",
    "        elif inside_brackets:\n",
    "            extracted_content += right_bracket\n",
    "            break\n",
    "    # remove brackets\n",
    "    return extracted_content[1:-1].strip()\n",
    "\n",
    "def get_class_content(file_content: str, class_name: str) -> tuple[str, str]:\n",
    "    class_arguments = \"\"\n",
    "    class_split = file_content.split(f\"class {class_name}\")\n",
    "    if len(class_split) == 1:\n",
    "        class_split = file_content.split(f\"object {class_name}\")\n",
    "    class_content = class_split[1]\n",
    "    # class_content = class_content.split(\"class \")[0].strip()\n",
    "    if class_content[0]==\"(\":\n",
    "        class_arguments = extract_from_brackets(class_content, brackets=\"()\")\n",
    "        class_arguments = \"(\" + class_arguments + \")\"\n",
    "        class_content = class_content.split(class_arguments[1:-1])[1].strip()[1:]\n",
    "    class_content = extract_from_brackets(class_content)\n",
    "\n",
    "    return class_content, class_arguments\n",
    "\n",
    "def extract_methods(class_content: str) -> list[dict[str, str]]:\n",
    "\n",
    "    methods = []\n",
    "    method_contents = class_content.split(\"fun\")[1:]\n",
    "    for method_content in method_contents:\n",
    "        method_name = method_content.split(\"(\")[0].strip()\n",
    "        method_arguments = \"(\" + extract_from_brackets(method_content, brackets=\"()\") + \")\"\n",
    "        methods.append({\"method_name\": method_name, \"method_arguments\": method_arguments})\n",
    "\n",
    "    return methods\n",
    "\n",
    "def extract_imports(file_content: str) -> str:\n",
    "    imports = \"\\n\".join(re.findall(r'^\\s*import\\s+[^\\n]+', file_content, re.MULTILINE)).strip()\n",
    "    return imports\n",
    "\n",
    "def parse_class(file_content: str, class_name: str) -> dict[str, object]:\n",
    "\n",
    "    class_content, class_arguments = get_class_content(file_content, class_name)\n",
    "    imports = extract_imports(file_content)\n",
    "    methods = extract_methods(class_content)\n",
    "\n",
    "    return {\"file_imports\": imports, \"class_methods\": methods, \"class_content\": class_content, \"class_arguments\": class_arguments}"
   ],
   "id": "47588cdc4680817b",
   "outputs": [],
   "execution_count": 2
  },
  {
   "metadata": {
    "ExecuteTime": {
     "end_time": "2025-03-24T22:30:51.410832Z",
     "start_time": "2025-03-24T22:30:51.380823Z"
    }
   },
   "cell_type": "code",
   "source": [
    "folder = Path(\"C:\\\\Timur\\\\Varios for job\\\\Data\\\\kotlin-test-based-bench\")\n",
    "dataset_file = folder / \"kotlin-test-dataset_with_descriptions_final.json\"\n",
    "dataset_file_edited = folder / \"kotlin-test-dataset_with_descriptions_final_file_content.json\"\n",
    "\n",
    "with open(dataset_file, 'r') as file:\n",
    "    dataset = json.load(file)"
   ],
   "id": "fce56d4bab0fa511",
   "outputs": [],
   "execution_count": 3
  },
  {
   "metadata": {
    "ExecuteTime": {
     "end_time": "2025-03-24T22:30:55.094034Z",
     "start_time": "2025-03-24T22:30:53.720538Z"
    }
   },
   "cell_type": "code",
   "source": [
    "failed_repo_tests = defaultdict(list)\n",
    "num_not_class = 0\n",
    "err = False\n",
    "\n",
    "for repo_point in dataset:\n",
    "    repo_name = repo_point['repository']['url'].split('/')[-1][:-4]\n",
    "    for test_point in repo_point['tests']:\n",
    "        target_file_path = folder / \"repos\" / repo_name / test_point[\"construct\"][\"path\"]\n",
    "        if os.path.exists(target_file_path):\n",
    "            class_name = test_point[\"construct\"][\"methodName\"]\n",
    "            with open(target_file_path, 'r') as file:\n",
    "                file_content = file.read()\n",
    "            class_content_parsed = parse_class(file_content, class_name)\n",
    "            # test_point[\"class_name\"] = class_name\n",
    "            # test_point.update(class_content_parsed)\n",
    "            test_point[\"file_content\"] = file_content\n",
    "        # else:\n",
    "        #     failed_repo_tests[repo_name].append(test_point[\"construct\"][\"path\"])\n",
    "        #     test_point[\"class_content\"] = \"\"\n",
    "        #     test_point[\"class_methods\"] = \"\"\n",
    "        #     test_point[\"file_imports\"] = \"\"\n",
    "    if err:\n",
    "        break"
   ],
   "id": "1554f9953873532f",
   "outputs": [],
   "execution_count": 4
  },
  {
   "metadata": {
    "ExecuteTime": {
     "end_time": "2025-03-24T22:30:58.320663Z",
     "start_time": "2025-03-24T22:30:58.279560Z"
    }
   },
   "cell_type": "code",
   "source": [
    "with open(dataset_file_edited, 'w') as file:\n",
    "    json.dump(dataset, file, indent=4)"
   ],
   "id": "13541930acd3b56e",
   "outputs": [],
   "execution_count": 5
  },
  {
   "metadata": {},
   "cell_type": "code",
   "outputs": [],
   "execution_count": null,
   "source": "",
   "id": "c11815eb5028b4a7"
  }
 ],
 "metadata": {
  "kernelspec": {
   "display_name": "Python 3",
   "language": "python",
   "name": "python3"
  },
  "language_info": {
   "codemirror_mode": {
    "name": "ipython",
    "version": 2
   },
   "file_extension": ".py",
   "mimetype": "text/x-python",
   "name": "python",
   "nbconvert_exporter": "python",
   "pygments_lexer": "ipython2",
   "version": "2.7.6"
  }
 },
 "nbformat": 4,
 "nbformat_minor": 5
}
