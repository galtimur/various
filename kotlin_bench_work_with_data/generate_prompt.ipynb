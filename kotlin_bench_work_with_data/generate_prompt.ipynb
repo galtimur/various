{
 "cells": [
  {
   "cell_type": "code",
   "id": "initial_id",
   "metadata": {
    "collapsed": true,
    "ExecuteTime": {
     "end_time": "2025-03-21T11:10:17.751968Z",
     "start_time": "2025-03-21T11:10:17.747581Z"
    }
   },
   "source": [
    "from pathlib import Path\n",
    "import json\n",
    "from collections import defaultdict"
   ],
   "outputs": [],
   "execution_count": 3
  },
  {
   "metadata": {
    "ExecuteTime": {
     "end_time": "2025-03-21T11:10:18.098605Z",
     "start_time": "2025-03-21T11:10:18.084569Z"
    }
   },
   "cell_type": "code",
   "source": [
    "folder = Path(\"C:\\\\Timur\\\\Varios for job\\\\Data\\\\kotlin-test-based-bench\")\n",
    "dataset_file = folder / \"kotlin-test-dataset_enriched.json\"\n",
    "\n",
    "with open(dataset_file, 'r') as file:\n",
    "    dataset = json.load(file)"
   ],
   "id": "fce56d4bab0fa511",
   "outputs": [],
   "execution_count": 4
  },
  {
   "metadata": {
    "ExecuteTime": {
     "end_time": "2025-03-21T11:14:17.438437Z",
     "start_time": "2025-03-21T11:14:17.434904Z"
    }
   },
   "cell_type": "code",
   "source": [
    "prompt = '''\n",
    "{description}\n",
    "\n",
    "These are class arguments. Do not change them. Class arguments:\n",
    "{class_arguments}\n",
    "\n",
    "These are methods of the class with their arguments. Do not change method names and arguments. Methods:\n",
    "{methods_with_arguments}\n",
    "\n",
    "In the file you should use these and only these imports:\n",
    "{file_imports}\n",
    "\n",
    "You can see examples of usage of this class there:\n",
    "{examples}\n",
    "'''"
   ],
   "id": "fdd25a472d50d621",
   "outputs": [],
   "execution_count": 11
  },
  {
   "metadata": {},
   "cell_type": "code",
   "outputs": [],
   "execution_count": null,
   "source": [
    "def generate_prompt(prompt, test_point: dict) -> str:\n",
    "    methods_with_arguments = \"[\\n\"\n",
    "    for method in test_point['class_methods']:\n",
    "        methods_with_arguments += method['method_name'] + method['method_arguments'] + \",\\n\\n\"\n",
    "    methods_with_arguments += \"]\"\n",
    "    examples = \"\"\n",
    "\n",
    "    prompt_dp = prompt.format(\n",
    "        description=test_point['description'],\n",
    "        class_arguments=test_point['class_arguments'],\n",
    "        methods_with_arguments=methods_with_arguments,\n",
    "        file_imports=test_point['file_imports'],\n",
    "        examples=examples\n",
    "        )\n",
    "\n",
    "    return prompt_dp"
   ],
   "id": "1935a2c789bda1b6"
  },
  {
   "metadata": {
    "ExecuteTime": {
     "end_time": "2025-03-21T11:10:18.494927Z",
     "start_time": "2025-03-21T11:10:18.491412Z"
    }
   },
   "cell_type": "code",
   "source": [
    "failed_repo_tests = defaultdict(list)\n",
    "num_not_class = 0\n",
    "err = False\n",
    "\n",
    "for repo_point in dataset:\n",
    "    repo_name = repo_point['repository']['url'].split('/')[-1][:-4]\n",
    "    for test_point in repo_point['tests']:\n",
    "        prompt_dp = generate_prompt(prompt, test_point)"
   ],
   "id": "1554f9953873532f",
   "outputs": [],
   "execution_count": 5
  },
  {
   "metadata": {
    "ExecuteTime": {
     "end_time": "2025-03-21T11:19:58.427010Z",
     "start_time": "2025-03-21T11:19:58.422675Z"
    }
   },
   "cell_type": "code",
   "source": [
    "# with open(\"prompt_dp_1.txt\", \"w\") as file:\n",
    "#     file.write(prompt_dp)"
   ],
   "id": "ffa0b488bbd4c4bc",
   "outputs": [],
   "execution_count": 19
  },
  {
   "metadata": {},
   "cell_type": "code",
   "outputs": [],
   "execution_count": null,
   "source": "",
   "id": "cb73585c5b5bb010"
  }
 ],
 "metadata": {
  "kernelspec": {
   "display_name": "Python 3",
   "language": "python",
   "name": "python3"
  },
  "language_info": {
   "codemirror_mode": {
    "name": "ipython",
    "version": 2
   },
   "file_extension": ".py",
   "mimetype": "text/x-python",
   "name": "python",
   "nbconvert_exporter": "python",
   "pygments_lexer": "ipython2",
   "version": "2.7.6"
  }
 },
 "nbformat": 4,
 "nbformat_minor": 5
}
